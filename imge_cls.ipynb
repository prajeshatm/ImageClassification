{
  "nbformat": 4,
  "nbformat_minor": 0,
  "metadata": {
    "colab": {
      "provenance": [],
      "mount_file_id": "10dzMhokDLx7CnHKo8bXsAcDhxlAYHoB6",
      "authorship_tag": "ABX9TyM3QJj79WhGQ0+7QJ9mJzoH",
      "include_colab_link": true
    },
    "kernelspec": {
      "name": "python3",
      "display_name": "Python 3"
    },
    "language_info": {
      "name": "python"
    }
  },
  "cells": [
    {
      "cell_type": "markdown",
      "metadata": {
        "id": "view-in-github",
        "colab_type": "text"
      },
      "source": [
        "<a href=\"https://colab.research.google.com/github/prajeshatm/ImageClassification/blob/main/imge_cls.ipynb\" target=\"_parent\"><img src=\"https://colab.research.google.com/assets/colab-badge.svg\" alt=\"Open In Colab\"/></a>"
      ]
    },
    {
      "cell_type": "code",
      "execution_count": null,
      "metadata": {
        "id": "ZvVEtTzkedvz"
      },
      "outputs": [],
      "source": [
        "import pandas as pd\n",
        "from sklearn.svm import SVC\n",
        "from skimage.transform import resize\n",
        "from skimage.io import imread\n",
        "import numpy as np\n",
        "from sklearn.model_selection import train_test_split\n",
        "import os"
      ]
    },
    {
      "cell_type": "code",
      "source": [
        "os.listdir('/content/drive/MyDrive/Data')"
      ],
      "metadata": {
        "colab": {
          "base_uri": "https://localhost:8080/"
        },
        "id": "bIf5qK7uiW7b",
        "outputId": "cf5c08ab-2c18-4c79-a0e5-06c2a3033d25"
      },
      "execution_count": null,
      "outputs": [
        {
          "output_type": "execute_result",
          "data": {
            "text/plain": [
              "['Dog', 'Cat']"
            ]
          },
          "metadata": {},
          "execution_count": 2
        }
      ]
    },
    {
      "cell_type": "code",
      "source": [
        "len(os.listdir('/content/drive/MyDrive/Data/Cat'))"
      ],
      "metadata": {
        "colab": {
          "base_uri": "https://localhost:8080/"
        },
        "id": "7Yyi5zFfjGOT",
        "outputId": "2d49757c-5321-4121-e52f-2f418f94d5e0"
      },
      "execution_count": null,
      "outputs": [
        {
          "output_type": "execute_result",
          "data": {
            "text/plain": [
              "60"
            ]
          },
          "metadata": {},
          "execution_count": 3
        }
      ]
    },
    {
      "cell_type": "code",
      "source": [
        "len(os.listdir('/content/drive/MyDrive/Data/Dog'))"
      ],
      "metadata": {
        "colab": {
          "base_uri": "https://localhost:8080/"
        },
        "id": "WYXNyeDbjc7n",
        "outputId": "e7f8e7ab-2505-4f30-9e36-e4bef67734e0"
      },
      "execution_count": null,
      "outputs": [
        {
          "output_type": "execute_result",
          "data": {
            "text/plain": [
              "66"
            ]
          },
          "metadata": {},
          "execution_count": 4
        }
      ]
    },
    {
      "cell_type": "code",
      "source": [
        "catpath=os.path.join('/content/drive/MyDrive/Data','Cat')\n",
        "for i in os.listdir(catpath):\n",
        "  print(i)"
      ],
      "metadata": {
        "colab": {
          "base_uri": "https://localhost:8080/"
        },
        "id": "Ep6iambrkKTl",
        "outputId": "27c4d93d-25ba-47c1-c207-d0c73e360eca"
      },
      "execution_count": null,
      "outputs": [
        {
          "output_type": "stream",
          "name": "stdout",
          "text": [
            "cat.1 - Copy.jpg\n",
            "cat.10.jpg\n",
            "cat.11.jpg\n",
            "cat.2 - Copy.jpg\n",
            "cat.17.jpg\n",
            "cat.12.jpg\n",
            "cat.15.jpg\n",
            "cat.14.jpg\n",
            "cat.21.jpg\n",
            "cat.20.jpg\n",
            "cat.13.jpg\n",
            "cat.16.jpg\n",
            "cat.18.jpg\n",
            "cat.27.jpg\n",
            "cat.24.jpg\n",
            "cat.3 - Copy.jpg\n",
            "cat.28.jpg\n",
            "cat.29.jpg\n",
            "cat.31.jpg\n",
            "cat.30.jpg\n",
            "cat.33.jpg\n",
            "cat.36.jpg\n",
            "cat.38.jpg\n",
            "cat.34.jpg\n",
            "cat.39.jpg\n",
            "cat.51.jpg\n",
            "cat.44.jpg\n",
            "cat.46.jpg\n",
            "cat.50.jpg\n",
            "cat.4 - Copy.jpg\n",
            "cat.47.jpg\n",
            "cat.37.jpg\n",
            "cat.32.jpg\n",
            "cat.54.jpg\n",
            "cat.43.jpg\n",
            "cat.42.jpg\n",
            "cat.53.jpg\n",
            "cat.40.jpg\n",
            "cat.48.jpg\n",
            "cat.5.jpg\n",
            "cat.52.jpg\n",
            "cat.35.jpg\n",
            "cat.49.jpg\n",
            "cat.41.jpg\n",
            "cat.5 - Copy.jpg\n",
            "cat.9.jpg\n",
            "cat.8.jpg\n",
            "cat.7.jpg\n",
            "download.jpeg\n",
            "download1.jpeg\n",
            "download2.jpeg\n",
            "download3.jpeg\n",
            "download4.jpeg\n",
            "download5.jpeg\n",
            "download6.jpeg\n",
            "download7.jpeg\n",
            "download8.jpeg\n",
            "images9.jpeg\n",
            "images.jpeg\n",
            "downloadcat.jpeg\n"
          ]
        }
      ]
    },
    {
      "cell_type": "code",
      "source": [
        "flat_data_arr=[]\n",
        "target_arr=[]"
      ],
      "metadata": {
        "id": "2JwQi-cGlxHL"
      },
      "execution_count": null,
      "outputs": []
    },
    {
      "cell_type": "code",
      "source": [
        "Categories=['Cat','Dog']\n",
        "datadir='/content/drive/MyDrive/Data'\n",
        "for i in Categories:  #'Cat'\n",
        "  print(\"loading category\",i)\n",
        "  path=os.path.join(datadir,i) #'/content/drive/MyDrive/Data/Cat/cat1.jpeg'\n",
        "  for img in os.listdir(path):\n",
        "     img_array=imread(os.path.join(path,img))\n",
        "     img_resized=resize(img_array,(150,150,3))\n",
        "     flat_data_arr.append(img_resized.flatten())\n",
        "     target_arr.append(Categories.index(i))\n",
        "  print(\"Loaded category\",i)\n",
        "\n",
        "\n"
      ],
      "metadata": {
        "colab": {
          "base_uri": "https://localhost:8080/"
        },
        "id": "mdsDn0p5m01M",
        "outputId": "8cbb5726-5649-4cbe-b90b-ddd5ba133fe3"
      },
      "execution_count": null,
      "outputs": [
        {
          "output_type": "stream",
          "name": "stdout",
          "text": [
            "loading category Cat\n",
            "Loaded category Cat\n",
            "loading category Dog\n",
            "Loaded category Dog\n"
          ]
        }
      ]
    },
    {
      "cell_type": "code",
      "source": [
        "df=pd.DataFrame(flat_data_arr)\n",
        "df"
      ],
      "metadata": {
        "colab": {
          "base_uri": "https://localhost:8080/",
          "height": 487
        },
        "id": "1CazziGprUCQ",
        "outputId": "45e226e3-5c7a-4ac0-db64-ad20679bf5c1"
      },
      "execution_count": null,
      "outputs": [
        {
          "output_type": "execute_result",
          "data": {
            "text/plain": [
              "        0         1         2         3         4         5         6      \\\n",
              "0    0.154919  0.174317  0.159262  0.158661  0.174557  0.174348  0.160470   \n",
              "1    0.112229  0.128222  0.163382  0.068747  0.084740  0.125080  0.088116   \n",
              "2    0.890555  0.917245  0.909245  0.909860  0.948941  0.944676  0.925683   \n",
              "3    0.258697  0.202976  0.211065  0.224392  0.171795  0.183491  0.200546   \n",
              "4    0.102460  0.102460  0.102460  0.109354  0.109354  0.109354  0.106019   \n",
              "..        ...       ...       ...       ...       ...       ...       ...   \n",
              "121  0.540430  0.592002  0.587192  0.536907  0.582837  0.564881  0.473051   \n",
              "122  0.525404  0.515404  0.385404  0.541982  0.531982  0.401980  0.549706   \n",
              "123  0.180388  0.305878  0.211760  0.179468  0.304958  0.210840  0.176474   \n",
              "124  0.265494  0.194915  0.165522  0.289091  0.236930  0.201553  0.297122   \n",
              "125  1.000000  1.000000  1.000000  1.000000  1.000000  1.000000  1.000000   \n",
              "\n",
              "        7         8         9      ...     67490     67491     67492  \\\n",
              "0    0.174195  0.189462  0.162110  ...  0.224704  0.197318  0.138913   \n",
              "1    0.103733  0.150911  0.149698  ...  0.008552  0.756716  0.752803   \n",
              "2    0.980147  0.980362  0.749868  ...  0.947478  0.774726  0.836644   \n",
              "3    0.154476  0.171791  0.216943  ...  0.231418  0.141433  0.087680   \n",
              "4    0.106019  0.106019  0.113694  ...  0.211287  0.318348  0.331493   \n",
              "..        ...       ...       ...  ...       ...       ...       ...   \n",
              "121  0.511448  0.474642  0.414647  ...  0.187970  0.070573  0.083511   \n",
              "122  0.539706  0.408779  0.541766  ...  0.327961  0.547997  0.553535   \n",
              "123  0.301964  0.207846  0.174089  ...  0.170797  0.407024  0.567886   \n",
              "124  0.270173  0.230698  0.270863  ...  0.152773  0.311343  0.311343   \n",
              "125  1.000000  1.000000  1.000000  ...  1.000000  1.000000  1.000000   \n",
              "\n",
              "        67493     67494     67495     67496     67497     67498     67499  \n",
              "0    0.111461  0.190055  0.138656  0.107701  0.180396  0.134622  0.101754  \n",
              "1    0.014710  0.728919  0.718809  0.021388  0.675097  0.656312  0.013387  \n",
              "2    0.941021  0.761761  0.824506  0.923488  0.784133  0.846879  0.942937  \n",
              "3    0.141854  0.313445  0.264257  0.285725  0.778475  0.734729  0.725754  \n",
              "4    0.318138  0.265920  0.293626  0.276704  0.363970  0.375376  0.367386  \n",
              "..        ...       ...       ...       ...       ...       ...       ...  \n",
              "121  0.048696  0.227812  0.231461  0.175383  0.065175  0.065175  0.027635  \n",
              "122  0.311182  0.547216  0.562070  0.275076  0.673287  0.665615  0.441600  \n",
              "123  0.167792  0.393432  0.571711  0.150718  0.392157  0.572549  0.149020  \n",
              "124  0.115264  0.383767  0.383767  0.187688  0.405936  0.405936  0.209857  \n",
              "125  1.000000  1.000000  1.000000  1.000000  1.000000  1.000000  1.000000  \n",
              "\n",
              "[126 rows x 67500 columns]"
            ],
            "text/html": [
              "\n",
              "  <div id=\"df-2f5b97ed-63c6-4189-98ed-b797b6ef1aa5\">\n",
              "    <div class=\"colab-df-container\">\n",
              "      <div>\n",
              "<style scoped>\n",
              "    .dataframe tbody tr th:only-of-type {\n",
              "        vertical-align: middle;\n",
              "    }\n",
              "\n",
              "    .dataframe tbody tr th {\n",
              "        vertical-align: top;\n",
              "    }\n",
              "\n",
              "    .dataframe thead th {\n",
              "        text-align: right;\n",
              "    }\n",
              "</style>\n",
              "<table border=\"1\" class=\"dataframe\">\n",
              "  <thead>\n",
              "    <tr style=\"text-align: right;\">\n",
              "      <th></th>\n",
              "      <th>0</th>\n",
              "      <th>1</th>\n",
              "      <th>2</th>\n",
              "      <th>3</th>\n",
              "      <th>4</th>\n",
              "      <th>5</th>\n",
              "      <th>6</th>\n",
              "      <th>7</th>\n",
              "      <th>8</th>\n",
              "      <th>9</th>\n",
              "      <th>...</th>\n",
              "      <th>67490</th>\n",
              "      <th>67491</th>\n",
              "      <th>67492</th>\n",
              "      <th>67493</th>\n",
              "      <th>67494</th>\n",
              "      <th>67495</th>\n",
              "      <th>67496</th>\n",
              "      <th>67497</th>\n",
              "      <th>67498</th>\n",
              "      <th>67499</th>\n",
              "    </tr>\n",
              "  </thead>\n",
              "  <tbody>\n",
              "    <tr>\n",
              "      <th>0</th>\n",
              "      <td>0.154919</td>\n",
              "      <td>0.174317</td>\n",
              "      <td>0.159262</td>\n",
              "      <td>0.158661</td>\n",
              "      <td>0.174557</td>\n",
              "      <td>0.174348</td>\n",
              "      <td>0.160470</td>\n",
              "      <td>0.174195</td>\n",
              "      <td>0.189462</td>\n",
              "      <td>0.162110</td>\n",
              "      <td>...</td>\n",
              "      <td>0.224704</td>\n",
              "      <td>0.197318</td>\n",
              "      <td>0.138913</td>\n",
              "      <td>0.111461</td>\n",
              "      <td>0.190055</td>\n",
              "      <td>0.138656</td>\n",
              "      <td>0.107701</td>\n",
              "      <td>0.180396</td>\n",
              "      <td>0.134622</td>\n",
              "      <td>0.101754</td>\n",
              "    </tr>\n",
              "    <tr>\n",
              "      <th>1</th>\n",
              "      <td>0.112229</td>\n",
              "      <td>0.128222</td>\n",
              "      <td>0.163382</td>\n",
              "      <td>0.068747</td>\n",
              "      <td>0.084740</td>\n",
              "      <td>0.125080</td>\n",
              "      <td>0.088116</td>\n",
              "      <td>0.103733</td>\n",
              "      <td>0.150911</td>\n",
              "      <td>0.149698</td>\n",
              "      <td>...</td>\n",
              "      <td>0.008552</td>\n",
              "      <td>0.756716</td>\n",
              "      <td>0.752803</td>\n",
              "      <td>0.014710</td>\n",
              "      <td>0.728919</td>\n",
              "      <td>0.718809</td>\n",
              "      <td>0.021388</td>\n",
              "      <td>0.675097</td>\n",
              "      <td>0.656312</td>\n",
              "      <td>0.013387</td>\n",
              "    </tr>\n",
              "    <tr>\n",
              "      <th>2</th>\n",
              "      <td>0.890555</td>\n",
              "      <td>0.917245</td>\n",
              "      <td>0.909245</td>\n",
              "      <td>0.909860</td>\n",
              "      <td>0.948941</td>\n",
              "      <td>0.944676</td>\n",
              "      <td>0.925683</td>\n",
              "      <td>0.980147</td>\n",
              "      <td>0.980362</td>\n",
              "      <td>0.749868</td>\n",
              "      <td>...</td>\n",
              "      <td>0.947478</td>\n",
              "      <td>0.774726</td>\n",
              "      <td>0.836644</td>\n",
              "      <td>0.941021</td>\n",
              "      <td>0.761761</td>\n",
              "      <td>0.824506</td>\n",
              "      <td>0.923488</td>\n",
              "      <td>0.784133</td>\n",
              "      <td>0.846879</td>\n",
              "      <td>0.942937</td>\n",
              "    </tr>\n",
              "    <tr>\n",
              "      <th>3</th>\n",
              "      <td>0.258697</td>\n",
              "      <td>0.202976</td>\n",
              "      <td>0.211065</td>\n",
              "      <td>0.224392</td>\n",
              "      <td>0.171795</td>\n",
              "      <td>0.183491</td>\n",
              "      <td>0.200546</td>\n",
              "      <td>0.154476</td>\n",
              "      <td>0.171791</td>\n",
              "      <td>0.216943</td>\n",
              "      <td>...</td>\n",
              "      <td>0.231418</td>\n",
              "      <td>0.141433</td>\n",
              "      <td>0.087680</td>\n",
              "      <td>0.141854</td>\n",
              "      <td>0.313445</td>\n",
              "      <td>0.264257</td>\n",
              "      <td>0.285725</td>\n",
              "      <td>0.778475</td>\n",
              "      <td>0.734729</td>\n",
              "      <td>0.725754</td>\n",
              "    </tr>\n",
              "    <tr>\n",
              "      <th>4</th>\n",
              "      <td>0.102460</td>\n",
              "      <td>0.102460</td>\n",
              "      <td>0.102460</td>\n",
              "      <td>0.109354</td>\n",
              "      <td>0.109354</td>\n",
              "      <td>0.109354</td>\n",
              "      <td>0.106019</td>\n",
              "      <td>0.106019</td>\n",
              "      <td>0.106019</td>\n",
              "      <td>0.113694</td>\n",
              "      <td>...</td>\n",
              "      <td>0.211287</td>\n",
              "      <td>0.318348</td>\n",
              "      <td>0.331493</td>\n",
              "      <td>0.318138</td>\n",
              "      <td>0.265920</td>\n",
              "      <td>0.293626</td>\n",
              "      <td>0.276704</td>\n",
              "      <td>0.363970</td>\n",
              "      <td>0.375376</td>\n",
              "      <td>0.367386</td>\n",
              "    </tr>\n",
              "    <tr>\n",
              "      <th>...</th>\n",
              "      <td>...</td>\n",
              "      <td>...</td>\n",
              "      <td>...</td>\n",
              "      <td>...</td>\n",
              "      <td>...</td>\n",
              "      <td>...</td>\n",
              "      <td>...</td>\n",
              "      <td>...</td>\n",
              "      <td>...</td>\n",
              "      <td>...</td>\n",
              "      <td>...</td>\n",
              "      <td>...</td>\n",
              "      <td>...</td>\n",
              "      <td>...</td>\n",
              "      <td>...</td>\n",
              "      <td>...</td>\n",
              "      <td>...</td>\n",
              "      <td>...</td>\n",
              "      <td>...</td>\n",
              "      <td>...</td>\n",
              "      <td>...</td>\n",
              "    </tr>\n",
              "    <tr>\n",
              "      <th>121</th>\n",
              "      <td>0.540430</td>\n",
              "      <td>0.592002</td>\n",
              "      <td>0.587192</td>\n",
              "      <td>0.536907</td>\n",
              "      <td>0.582837</td>\n",
              "      <td>0.564881</td>\n",
              "      <td>0.473051</td>\n",
              "      <td>0.511448</td>\n",
              "      <td>0.474642</td>\n",
              "      <td>0.414647</td>\n",
              "      <td>...</td>\n",
              "      <td>0.187970</td>\n",
              "      <td>0.070573</td>\n",
              "      <td>0.083511</td>\n",
              "      <td>0.048696</td>\n",
              "      <td>0.227812</td>\n",
              "      <td>0.231461</td>\n",
              "      <td>0.175383</td>\n",
              "      <td>0.065175</td>\n",
              "      <td>0.065175</td>\n",
              "      <td>0.027635</td>\n",
              "    </tr>\n",
              "    <tr>\n",
              "      <th>122</th>\n",
              "      <td>0.525404</td>\n",
              "      <td>0.515404</td>\n",
              "      <td>0.385404</td>\n",
              "      <td>0.541982</td>\n",
              "      <td>0.531982</td>\n",
              "      <td>0.401980</td>\n",
              "      <td>0.549706</td>\n",
              "      <td>0.539706</td>\n",
              "      <td>0.408779</td>\n",
              "      <td>0.541766</td>\n",
              "      <td>...</td>\n",
              "      <td>0.327961</td>\n",
              "      <td>0.547997</td>\n",
              "      <td>0.553535</td>\n",
              "      <td>0.311182</td>\n",
              "      <td>0.547216</td>\n",
              "      <td>0.562070</td>\n",
              "      <td>0.275076</td>\n",
              "      <td>0.673287</td>\n",
              "      <td>0.665615</td>\n",
              "      <td>0.441600</td>\n",
              "    </tr>\n",
              "    <tr>\n",
              "      <th>123</th>\n",
              "      <td>0.180388</td>\n",
              "      <td>0.305878</td>\n",
              "      <td>0.211760</td>\n",
              "      <td>0.179468</td>\n",
              "      <td>0.304958</td>\n",
              "      <td>0.210840</td>\n",
              "      <td>0.176474</td>\n",
              "      <td>0.301964</td>\n",
              "      <td>0.207846</td>\n",
              "      <td>0.174089</td>\n",
              "      <td>...</td>\n",
              "      <td>0.170797</td>\n",
              "      <td>0.407024</td>\n",
              "      <td>0.567886</td>\n",
              "      <td>0.167792</td>\n",
              "      <td>0.393432</td>\n",
              "      <td>0.571711</td>\n",
              "      <td>0.150718</td>\n",
              "      <td>0.392157</td>\n",
              "      <td>0.572549</td>\n",
              "      <td>0.149020</td>\n",
              "    </tr>\n",
              "    <tr>\n",
              "      <th>124</th>\n",
              "      <td>0.265494</td>\n",
              "      <td>0.194915</td>\n",
              "      <td>0.165522</td>\n",
              "      <td>0.289091</td>\n",
              "      <td>0.236930</td>\n",
              "      <td>0.201553</td>\n",
              "      <td>0.297122</td>\n",
              "      <td>0.270173</td>\n",
              "      <td>0.230698</td>\n",
              "      <td>0.270863</td>\n",
              "      <td>...</td>\n",
              "      <td>0.152773</td>\n",
              "      <td>0.311343</td>\n",
              "      <td>0.311343</td>\n",
              "      <td>0.115264</td>\n",
              "      <td>0.383767</td>\n",
              "      <td>0.383767</td>\n",
              "      <td>0.187688</td>\n",
              "      <td>0.405936</td>\n",
              "      <td>0.405936</td>\n",
              "      <td>0.209857</td>\n",
              "    </tr>\n",
              "    <tr>\n",
              "      <th>125</th>\n",
              "      <td>1.000000</td>\n",
              "      <td>1.000000</td>\n",
              "      <td>1.000000</td>\n",
              "      <td>1.000000</td>\n",
              "      <td>1.000000</td>\n",
              "      <td>1.000000</td>\n",
              "      <td>1.000000</td>\n",
              "      <td>1.000000</td>\n",
              "      <td>1.000000</td>\n",
              "      <td>1.000000</td>\n",
              "      <td>...</td>\n",
              "      <td>1.000000</td>\n",
              "      <td>1.000000</td>\n",
              "      <td>1.000000</td>\n",
              "      <td>1.000000</td>\n",
              "      <td>1.000000</td>\n",
              "      <td>1.000000</td>\n",
              "      <td>1.000000</td>\n",
              "      <td>1.000000</td>\n",
              "      <td>1.000000</td>\n",
              "      <td>1.000000</td>\n",
              "    </tr>\n",
              "  </tbody>\n",
              "</table>\n",
              "<p>126 rows × 67500 columns</p>\n",
              "</div>\n",
              "      <button class=\"colab-df-convert\" onclick=\"convertToInteractive('df-2f5b97ed-63c6-4189-98ed-b797b6ef1aa5')\"\n",
              "              title=\"Convert this dataframe to an interactive table.\"\n",
              "              style=\"display:none;\">\n",
              "        \n",
              "  <svg xmlns=\"http://www.w3.org/2000/svg\" height=\"24px\"viewBox=\"0 0 24 24\"\n",
              "       width=\"24px\">\n",
              "    <path d=\"M0 0h24v24H0V0z\" fill=\"none\"/>\n",
              "    <path d=\"M18.56 5.44l.94 2.06.94-2.06 2.06-.94-2.06-.94-.94-2.06-.94 2.06-2.06.94zm-11 1L8.5 8.5l.94-2.06 2.06-.94-2.06-.94L8.5 2.5l-.94 2.06-2.06.94zm10 10l.94 2.06.94-2.06 2.06-.94-2.06-.94-.94-2.06-.94 2.06-2.06.94z\"/><path d=\"M17.41 7.96l-1.37-1.37c-.4-.4-.92-.59-1.43-.59-.52 0-1.04.2-1.43.59L10.3 9.45l-7.72 7.72c-.78.78-.78 2.05 0 2.83L4 21.41c.39.39.9.59 1.41.59.51 0 1.02-.2 1.41-.59l7.78-7.78 2.81-2.81c.8-.78.8-2.07 0-2.86zM5.41 20L4 18.59l7.72-7.72 1.47 1.35L5.41 20z\"/>\n",
              "  </svg>\n",
              "      </button>\n",
              "      \n",
              "  <style>\n",
              "    .colab-df-container {\n",
              "      display:flex;\n",
              "      flex-wrap:wrap;\n",
              "      gap: 12px;\n",
              "    }\n",
              "\n",
              "    .colab-df-convert {\n",
              "      background-color: #E8F0FE;\n",
              "      border: none;\n",
              "      border-radius: 50%;\n",
              "      cursor: pointer;\n",
              "      display: none;\n",
              "      fill: #1967D2;\n",
              "      height: 32px;\n",
              "      padding: 0 0 0 0;\n",
              "      width: 32px;\n",
              "    }\n",
              "\n",
              "    .colab-df-convert:hover {\n",
              "      background-color: #E2EBFA;\n",
              "      box-shadow: 0px 1px 2px rgba(60, 64, 67, 0.3), 0px 1px 3px 1px rgba(60, 64, 67, 0.15);\n",
              "      fill: #174EA6;\n",
              "    }\n",
              "\n",
              "    [theme=dark] .colab-df-convert {\n",
              "      background-color: #3B4455;\n",
              "      fill: #D2E3FC;\n",
              "    }\n",
              "\n",
              "    [theme=dark] .colab-df-convert:hover {\n",
              "      background-color: #434B5C;\n",
              "      box-shadow: 0px 1px 3px 1px rgba(0, 0, 0, 0.15);\n",
              "      filter: drop-shadow(0px 1px 2px rgba(0, 0, 0, 0.3));\n",
              "      fill: #FFFFFF;\n",
              "    }\n",
              "  </style>\n",
              "\n",
              "      <script>\n",
              "        const buttonEl =\n",
              "          document.querySelector('#df-2f5b97ed-63c6-4189-98ed-b797b6ef1aa5 button.colab-df-convert');\n",
              "        buttonEl.style.display =\n",
              "          google.colab.kernel.accessAllowed ? 'block' : 'none';\n",
              "\n",
              "        async function convertToInteractive(key) {\n",
              "          const element = document.querySelector('#df-2f5b97ed-63c6-4189-98ed-b797b6ef1aa5');\n",
              "          const dataTable =\n",
              "            await google.colab.kernel.invokeFunction('convertToInteractive',\n",
              "                                                     [key], {});\n",
              "          if (!dataTable) return;\n",
              "\n",
              "          const docLinkHtml = 'Like what you see? Visit the ' +\n",
              "            '<a target=\"_blank\" href=https://colab.research.google.com/notebooks/data_table.ipynb>data table notebook</a>'\n",
              "            + ' to learn more about interactive tables.';\n",
              "          element.innerHTML = '';\n",
              "          dataTable['output_type'] = 'display_data';\n",
              "          await google.colab.output.renderOutput(dataTable, element);\n",
              "          const docLink = document.createElement('div');\n",
              "          docLink.innerHTML = docLinkHtml;\n",
              "          element.appendChild(docLink);\n",
              "        }\n",
              "      </script>\n",
              "    </div>\n",
              "  </div>\n",
              "  "
            ]
          },
          "metadata": {},
          "execution_count": 8
        }
      ]
    },
    {
      "cell_type": "code",
      "source": [
        "150*150*3"
      ],
      "metadata": {
        "colab": {
          "base_uri": "https://localhost:8080/"
        },
        "id": "cyqDWObbsUWq",
        "outputId": "48e748cb-79a0-4650-a3ba-582b3001669d"
      },
      "execution_count": null,
      "outputs": [
        {
          "output_type": "execute_result",
          "data": {
            "text/plain": [
              "67500"
            ]
          },
          "metadata": {},
          "execution_count": 9
        }
      ]
    },
    {
      "cell_type": "code",
      "source": [
        "print(type(flat_data_arr))"
      ],
      "metadata": {
        "colab": {
          "base_uri": "https://localhost:8080/"
        },
        "id": "jRE4OxEAq8MY",
        "outputId": "ee2e5686-e385-4f46-e8a1-2346e5a57288"
      },
      "execution_count": null,
      "outputs": [
        {
          "output_type": "stream",
          "name": "stdout",
          "text": [
            "<class 'list'>\n"
          ]
        }
      ]
    },
    {
      "cell_type": "code",
      "source": [
        "X=np.array(flat_data_arr)\n",
        "print(type(X))"
      ],
      "metadata": {
        "colab": {
          "base_uri": "https://localhost:8080/"
        },
        "id": "M3eLVF3zrPsM",
        "outputId": "a0c2a426-da05-422a-c05b-4824746a0576"
      },
      "execution_count": null,
      "outputs": [
        {
          "output_type": "stream",
          "name": "stdout",
          "text": [
            "<class 'numpy.ndarray'>\n"
          ]
        }
      ]
    },
    {
      "cell_type": "code",
      "source": [
        "X"
      ],
      "metadata": {
        "colab": {
          "base_uri": "https://localhost:8080/"
        },
        "id": "H68CELYbreuK",
        "outputId": "a1c561fe-ce63-4e2b-85cf-9c712679e190"
      },
      "execution_count": null,
      "outputs": [
        {
          "output_type": "execute_result",
          "data": {
            "text/plain": [
              "array([[0.15491925, 0.17431681, 0.15926241, ..., 0.18039618, 0.13462235,\n",
              "        0.10175359],\n",
              "       [0.11222857, 0.12822201, 0.16338221, ..., 0.67509693, 0.65631209,\n",
              "        0.01338726],\n",
              "       [0.89055487, 0.91724466, 0.90924496, ..., 0.78413342, 0.84687852,\n",
              "        0.94293666],\n",
              "       ...,\n",
              "       [0.18038763, 0.30587782, 0.21176018, ..., 0.39215686, 0.57254902,\n",
              "        0.14901961],\n",
              "       [0.26549381, 0.19491517, 0.16552205, ..., 0.40593565, 0.40593565,\n",
              "        0.20985722],\n",
              "       [1.        , 1.        , 1.        , ..., 1.        , 1.        ,\n",
              "        1.        ]])"
            ]
          },
          "metadata": {},
          "execution_count": 18
        }
      ]
    },
    {
      "cell_type": "code",
      "source": [
        "\n",
        "y=np.array(target_arr)\n",
        "print(type(y))"
      ],
      "metadata": {
        "colab": {
          "base_uri": "https://localhost:8080/"
        },
        "id": "uqIQzcq4rhRL",
        "outputId": "05beab3b-cf0f-4c9a-8976-ef108e0bd4ef"
      },
      "execution_count": null,
      "outputs": [
        {
          "output_type": "stream",
          "name": "stdout",
          "text": [
            "<class 'numpy.ndarray'>\n"
          ]
        }
      ]
    },
    {
      "cell_type": "code",
      "source": [
        "X_train,X_test,y_train,y_test=train_test_split(X,y,test_size=0.2,random_state=1)"
      ],
      "metadata": {
        "id": "VibFB4mAt4gI"
      },
      "execution_count": null,
      "outputs": []
    },
    {
      "cell_type": "code",
      "source": [
        "sv=SVC()\n",
        "sv.fit(X_train,y_train)\n",
        "y_pred=sv.predict(X_test)\n",
        "print(y_pred)"
      ],
      "metadata": {
        "colab": {
          "base_uri": "https://localhost:8080/"
        },
        "id": "E_PUOvTCuKKB",
        "outputId": "853e60ed-1b70-455c-8fc7-cbfe9d89ffe7"
      },
      "execution_count": null,
      "outputs": [
        {
          "output_type": "stream",
          "name": "stdout",
          "text": [
            "[0 0 1 1 1 0 0 1 0 0 1 0 1 0 0 0 1 1 1 0 1 0 1 1 0 1]\n"
          ]
        }
      ]
    },
    {
      "cell_type": "code",
      "source": [
        "from google.colab.patches import cv2_imshow\n",
        "import cv2\n",
        "img=cv2.imread('/content/drive/MyDrive/downloadcat.jpeg')\n",
        "cv2_imshow(img)"
      ],
      "metadata": {
        "colab": {
          "base_uri": "https://localhost:8080/",
          "height": 281
        },
        "id": "1q3I1uqlu7Fi",
        "outputId": "72573acb-63d3-4101-852b-d7ca96c024cb"
      },
      "execution_count": null,
      "outputs": [
        {
          "output_type": "display_data",
          "data": {
            "text/plain": [
              "<PIL.Image.Image image mode=RGB size=191x264 at 0x7FB3E87C6F40>"
            ],
            "image/png": "[encoded data removed]"
          },
          "metadata": {}
        }
      ]
    },
    {
      "cell_type": "code",
      "source": [
        "img=imread('/content/drive/MyDrive/downloadcat.jpeg')\n",
        "img=resize(img,(150,150,3)).flatten().reshape(1,-1)\n",
        "y_new=sv.predict(img)\n",
        "if y_new==0:\n",
        "  print('Cat')\n",
        "else:\n",
        "  print(\"Dog\")"
      ],
      "metadata": {
        "colab": {
          "base_uri": "https://localhost:8080/"
        },
        "id": "rQVlz2YawUMW",
        "outputId": "bd98352b-3181-4a26-9180-70985de0b7c4"
      },
      "execution_count": null,
      "outputs": [
        {
          "output_type": "stream",
          "name": "stdout",
          "text": [
            "Cat\n"
          ]
        }
      ]
    },
    {
      "cell_type": "code",
      "source": [
        "a=np.array([[1,2],[3,4]]).flatten()\n",
        "a"
      ],
      "metadata": {
        "colab": {
          "base_uri": "https://localhost:8080/"
        },
        "id": "bFPvjHFPx43B",
        "outputId": "db718379-bce0-47ca-82b3-ebef16d162d4"
      },
      "execution_count": null,
      "outputs": [
        {
          "output_type": "execute_result",
          "data": {
            "text/plain": [
              "array([1, 2, 3, 4])"
            ]
          },
          "metadata": {},
          "execution_count": 34
        }
      ]
    },
    {
      "cell_type": "code",
      "source": [
        "a.shape\n",
        "#1\n",
        "#2\n",
        "#3\n",
        "#4"
      ],
      "metadata": {
        "colab": {
          "base_uri": "https://localhost:8080/"
        },
        "id": "43Z8UpPVyKdG",
        "outputId": "fbac820d-94ac-4663-ca30-62421c10d590"
      },
      "execution_count": null,
      "outputs": [
        {
          "output_type": "execute_result",
          "data": {
            "text/plain": [
              "(4,)"
            ]
          },
          "metadata": {},
          "execution_count": 35
        }
      ]
    },
    {
      "cell_type": "code",
      "source": [
        "a=np.array([[1,2],[3,4]]).flatten().reshape(1,-1)\n",
        "a"
      ],
      "metadata": {
        "colab": {
          "base_uri": "https://localhost:8080/"
        },
        "id": "z-CgPBWrymyB",
        "outputId": "72dac63d-b972-4d36-b248-9dd6ba246987"
      },
      "execution_count": null,
      "outputs": [
        {
          "output_type": "execute_result",
          "data": {
            "text/plain": [
              "array([[1, 2, 3, 4]])"
            ]
          },
          "metadata": {},
          "execution_count": 36
        }
      ]
    },
    {
      "cell_type": "code",
      "source": [
        "a.shape"
      ],
      "metadata": {
        "colab": {
          "base_uri": "https://localhost:8080/"
        },
        "id": "xVBv6r_yyuDN",
        "outputId": "8a73a674-10f2-4b48-83a5-3267e73c3ec6"
      },
      "execution_count": null,
      "outputs": [
        {
          "output_type": "execute_result",
          "data": {
            "text/plain": [
              "(1, 4)"
            ]
          },
          "metadata": {},
          "execution_count": 37
        }
      ]
    },
    {
      "cell_type": "code",
      "source": [
        "from sklearn.metrics import ConfusionMatrixDisplay\n",
        "print(ConfusionMatrixDisplay.from_predictions(y_test,y_pred))"
      ],
      "metadata": {
        "colab": {
          "base_uri": "https://localhost:8080/",
          "height": 300
        },
        "id": "-TBN3HCK11j0",
        "outputId": "f718547d-5516-4a2d-ba1b-f81181a29a87"
      },
      "execution_count": null,
      "outputs": [
        {
          "output_type": "stream",
          "name": "stdout",
          "text": [
            "<sklearn.metrics._plot.confusion_matrix.ConfusionMatrixDisplay object at 0x7fb394c8b370>\n"
          ]
        },
        {
          "output_type": "display_data",
          "data": {
            "text/plain": [
              "<Figure size 432x288 with 2 Axes>"
            ],
            "image/png": "[encoded data removed]"
          },
          "metadata": {
            "needs_background": "light"
          }
        }
      ]
    }
  ]
}